{
 "cells": [
  {
   "cell_type": "markdown",
   "metadata": {},
   "source": [
    "# Study of $q_0$ "
   ]
  },
  {
   "cell_type": "code",
   "execution_count": 1,
   "metadata": {},
   "outputs": [],
   "source": [
    "import numpy as np\n",
    "import pandas as pd\n",
    "import scipy.stats as stats\n",
    "# needed imports"
   ]
  },
  {
   "cell_type": "markdown",
   "metadata": {},
   "source": [
    "Using the likelihood \n",
    "$$\\mathcal{L}(y|\\mu+b,\\vec{\\chi}) = \\frac{e^{-(\\mu+b)}(\\mu+b)^y}{y!}\\frac{e^{-\\frac{(\\mu-\\mu_0)^2}{2\\sigma_\\mu^2}}}{\\sqrt{2\\pi\\sigma_\\mu^2}}\\frac{e^{-\\frac{(b-b_0)^2}{2\\sigma_b^2}}}{\\sqrt{2\\pi\\sigma_b^2}}$$\n",
    "Which gives (keeping only \"interesting terms\")\n",
    "$$\\ell(\\mu,b) = -(\\mu+b)+y\\ln(\\mu+b) - \\frac{1}{2}\\left(\\frac{\\mu-\\mu_0}{\\sigma_\\mu}\\right)^2 - \\frac{1}{2} \\left(\\frac{b-b_0}{\\sigma_b}\\right)^2$$\n",
    "Studying the case for $\\sigma_s\\rightarrow\\infty$ the third term above becomes zero. From this we can find the MLEs for two cases.\n",
    "\n",
    "First, finding $\\hat\\mu$, which is done by setting $\\frac{\\partial\\ell(\\mu,b)}{\\partial\\mu}=0$, this gives us $\\hat\\mu = y - b_0$. Furthermore we can find $\\hat b$ by setting $\\frac{\\partial\\ell(\\hat\\mu,b)}{\\partial b}=0$, giving $\\hat b = b_0$\n",
    "\n",
    "Then for the second case, the null hypothesis we find $\\hat{\\hat b}$ by setting $\\frac{\\partial\\ell(0,b)}{\\partial b}=0$, this yields $\\hat{\\hat{b}} =\\frac{b_0-\\sigma_b^2+\\sqrt{(b_0-\\sigma_b^2)^2+4y\\sigma_b^2}}{2}$ \n",
    "\n",
    "Using these values for the likelihood ratio test statistics gives us\n",
    "\n",
    "$$\n",
    "q_0 = -2[\\ell(s=0,\\hat{\\hat b}) - \\ell(\\hat s, \\hat b)]\n",
    "$$\n",
    "Giving \n",
    "$$\n",
    "q_0 = 2(y\\ln\\frac{y}{\\hat{\\hat b}} + \\hat{\\hat b} - y) + \\left(\\frac{\\hat{\\hat b} -b_0}{\\sigma_b}\\right)^2\n",
    "$$"
   ]
  },
  {
   "cell_type": "code",
   "execution_count": 2,
   "metadata": {},
   "outputs": [],
   "source": [
    "def log_likelihood(mu, b, y, b_0, db):\n",
    "    ell = -(mu+b) + y*np.log(mu+b) -0.5*((b-b_0)/db)**2\n",
    "    return ell\n",
    "\n",
    "def test_Stat_null(y, b_hhat, b_0, db):\n",
    "    q_0 = 2*(y*np.log(y/b_hhat)+b_hhat - y) + ((b_hhat-b_0)/db)**2\n",
    "    return q_0"
   ]
  },
  {
   "cell_type": "markdown",
   "metadata": {},
   "source": [
    "Using the asympotics approximation of Brazzale et al we start by defining the likelihood root\n",
    "\n",
    "$$\n",
    "r(\\mu) = sign(\\hat\\mu-\\mu)\\sqrt{2(\\ell_p(\\hat\\mu, \\hat b) - \\ell_p(\\mu, \\hat{\\hat b}))} \n",
    "$$\n",
    "where $\\ell_p(\\mu) = \\ell(\\mu,\\hat{\\hat b})$ is the profile log likelihood. For our purposes we (should) have that\n",
    "$$\n",
    "r(0) = \\sqrt{q_0}\n",
    "$$"
   ]
  },
  {
   "cell_type": "code",
   "execution_count": 3,
   "metadata": {},
   "outputs": [],
   "source": [
    "def likelihood_root(mu, mu_hat, b_hat, b_hhat, y, b_0, db):\n",
    "    ell_p_hat = log_likelihood(mu_hat, b_hat, y, b_0, db)\n",
    "    ell_p = log_likelihood(mu, b_hhat, y, b_0, db)\n",
    "    r = np.sign(mu_hat- mu)*np.sqrt(2*(ell_p_hat-ell_p))\n",
    "    return r"
   ]
  },
  {
   "cell_type": "markdown",
   "metadata": {},
   "source": [
    "Furthermore we have the modification of the likelihood root (for examples with the exponential family, so not this! This is a bad approximation!)\n",
    "$$\n",
    "r^*(\\mu) = r(\\mu) + \\frac{1}{r(\\mu)}\\log\\left(\\frac{q(\\mu)}{r(\\mu)}\\right)\n",
    "$$\n",
    "where\n",
    "$$\n",
    "q(\\mu) = t(\\mu) = \\sqrt{j_p(\\hat\\mu)} (\\hat\\mu - \\mu)\n",
    "$$\n",
    "is the Wald statistic, or\n",
    "$$\n",
    "q(\\mu) = s(\\mu) = \\sqrt{j_p(\\hat\\mu)}^{-1}\\frac{\\partial\\ell_p(\\mu)}{\\partial\\mu}\n",
    "$$\n",
    "is the score statistic. And where \n",
    "$$\n",
    "j_p(\\mu) = -\\frac{\\partial^2\\ell_p(\\mu)}{\\partial\\mu^2}\n",
    "$$\n",
    "is the observed information function. \n",
    "\n",
    "For our purposes, we have that \n",
    "$$\n",
    "\\frac{\\partial\\ell_p(\\mu)}{\\partial\\mu} = -1 + \\frac{y}{\\mu + \\hat{\\hat b}}\n",
    "$$\n",
    "and\n",
    "$$\n",
    "j_p(\\mu) = -\\frac{\\partial^2\\ell_p(\\mu)}{\\partial\\mu^2} = \\frac{y}{(\\mu + \\hat{\\hat b})^2}\n",
    "$$"
   ]
  },
  {
   "cell_type": "code",
   "execution_count": 4,
   "metadata": {},
   "outputs": [],
   "source": [
    "def info_func(mu, b_hatt, y):\n",
    "    j = y/(mu+b_hatt)**2\n",
    "    return j\n",
    "\n",
    "def wald(mu_hat, mu, b_hatt, y):\n",
    "    j = info_func(mu_hat, b_hatt, y)\n",
    "    t = np.sqrt(j)*(mu_hat-mu)\n",
    "    return t\n",
    "\n",
    "def score(mu_hat, mu, b_hatt, y):\n",
    "    j = info_func(mu_hat, b_hatt, y)\n",
    "    s = np.sqrt(1/j)*( -1 + y/(mu+b_hatt))\n",
    "    return s\n",
    "\n",
    "def modified_likelihood_root(mu, mu_hat, b_hat, b_hhat, y, b_0, db, doWald=True):\n",
    "    r_mu = likelihood_root(mu, mu_hat, b_hat, b_hhat, y, b_0, db)\n",
    "    if doWald == True:\n",
    "        q_mu = wald(mu_hat, mu, b_hhat, y)\n",
    "    else: \n",
    "        q_mu = score(mu_hat, mu, b_hhat, y)\n",
    "    return r_mu + (1 / r_mu) * np.log(q_mu / r_mu)\n"
   ]
  },
  {
   "cell_type": "markdown",
   "metadata": {},
   "source": [
    "Now for an example using $y=3$, $b_0=0.78$ and $\\sigma_b=0.18$, first we compare that indeed $r(0)=q_0$"
   ]
  },
  {
   "cell_type": "code",
   "execution_count": null,
   "metadata": {},
   "outputs": [
    {
     "name": "stdout",
     "output_type": "stream",
     "text": [
      "1.8477368150191664\n",
      "1.8477368150191662\n"
     ]
    }
   ],
   "source": [
    "y_obs = 3\n",
    "b_0 = 0.78\n",
    "sigma_b = 0.18\n",
    "\n",
    "mu_hat = y_obs - b_0\n",
    "b_hatt = (b_0-sigma_b**2+np.sqrt((b_0-sigma_b**2)**2+4*y_obs*(sigma_b**2)))/2\n",
    "b_hat = b_0\n",
    "\n",
    "r = likelihood_root(0, mu_hat, b_hat, b_hatt, y_obs, b_0, sigma_b)\n",
    "\n",
    "q_0 = test_Stat_null(y_obs, b_hatt, b_0, sigma_b)\n",
    "\n",
    "print(r)\n",
    "print(np.sqrt(q_0))"
   ]
  },
  {
   "cell_type": "markdown",
   "metadata": {},
   "source": [
    "Now we check all the modifications"
   ]
  },
  {
   "cell_type": "code",
   "execution_count": null,
   "metadata": {},
   "outputs": [],
   "source": [
    "r_s = modified_likelihood_root(0, mu_hat, b_hat, b_hatt, y_obs, b_0, sigma_b) # Wald\n",
    "r_ss = modified_likelihood_root(0, mu_hat, b_hat, b_hatt, y_obs, b_0, sigma_b, doWald=False) # Score\n",
    "r_mp = likelihood_root(0, mu_hat, b_hat, b_hatt, y_obs+0.5, b_0, sigma_b) # Mid-p\n",
    "r_s_mp = modified_likelihood_root(0, mu_hat, b_hat, b_hatt, y_obs+0.5, b_0, sigma_b)\n",
    "r_ss_mp = modified_likelihood_root(0, mu_hat, b_hat, b_hatt, y_obs+0.5, b_0, sigma_b, doWald=False)\n",
    "\n",
    "\n",
    "r_sf = stats.norm.sf(r, loc=0)\n",
    "r_star_sf = stats.norm.sf(r_s, loc=0)\n",
    "r_stars_sf = stats.norm.sf(r_ss, loc=0)\n",
    "r_sf_mp = stats.norm.sf(r_mp, loc=0)\n",
    "r_star_sf_mp = stats.norm.sf(r_s_mp, loc=0)\n",
    "r_stars_sf_mp = stats.norm.sf(r_ss_mp, loc=0)\n",
    "\n"
   ]
  },
  {
   "cell_type": "code",
   "execution_count": null,
   "metadata": {},
   "outputs": [
    {
     "data": {
      "text/html": [
       "<div>\n",
       "<style scoped>\n",
       "    .dataframe tbody tr th:only-of-type {\n",
       "        vertical-align: middle;\n",
       "    }\n",
       "\n",
       "    .dataframe tbody tr th {\n",
       "        vertical-align: top;\n",
       "    }\n",
       "\n",
       "    .dataframe thead th {\n",
       "        text-align: right;\n",
       "    }\n",
       "</style>\n",
       "<table border=\"1\" class=\"dataframe\">\n",
       "  <thead>\n",
       "    <tr style=\"text-align: right;\">\n",
       "      <th></th>\n",
       "      <th>r</th>\n",
       "      <th>r* Wald</th>\n",
       "      <th>r* score</th>\n",
       "      <th>Mid-P r</th>\n",
       "      <th>Mid-P r* Wald</th>\n",
       "      <th>Mid-P r* score</th>\n",
       "    </tr>\n",
       "  </thead>\n",
       "  <tbody>\n",
       "    <tr>\n",
       "      <th>p-value</th>\n",
       "      <td>0.032320</td>\n",
       "      <td>0.050978</td>\n",
       "      <td>0.010171</td>\n",
       "      <td>0.015410</td>\n",
       "      <td>0.026114</td>\n",
       "      <td>0.005342</td>\n",
       "    </tr>\n",
       "    <tr>\n",
       "      <th>Significance</th>\n",
       "      <td>1.847737</td>\n",
       "      <td>1.635446</td>\n",
       "      <td>2.319975</td>\n",
       "      <td>2.159381</td>\n",
       "      <td>1.941244</td>\n",
       "      <td>2.552854</td>\n",
       "    </tr>\n",
       "  </tbody>\n",
       "</table>\n",
       "</div>"
      ],
      "text/plain": [
       "                     r   r* Wald  r* score   Mid-P r  Mid-P r* Wald  \\\n",
       "p-value       0.032320  0.050978  0.010171  0.015410       0.026114   \n",
       "Significance  1.847737  1.635446  2.319975  2.159381       1.941244   \n",
       "\n",
       "              Mid-P r* score  \n",
       "p-value             0.005342  \n",
       "Significance        2.552854  "
      ]
     },
     "execution_count": 7,
     "metadata": {},
     "output_type": "execute_result"
    }
   ],
   "source": [
    "#Making a table of the results...\n",
    "\n",
    "data_sf = {'r': [r_sf, r], 'r* Wald': [r_star_sf, r_s], 'r* score': [r_stars_sf, r_ss], \n",
    "        'Mid-P r': [r_sf_mp, r_mp], 'Mid-P r* Wald': [r_star_sf_mp, r_s_mp], 'Mid-P r* score': [r_stars_sf_mp, r_ss_mp]}\n",
    "df= pd.DataFrame(data_sf)\n",
    "df.index = ['p-value', 'Significance']\n",
    "\n",
    "df \n"
   ]
  }
 ],
 "metadata": {
  "kernelspec": {
   "display_name": "pyro_fr",
   "language": "python",
   "name": "python3"
  },
  "language_info": {
   "codemirror_mode": {
    "name": "ipython",
    "version": 3
   },
   "file_extension": ".py",
   "mimetype": "text/x-python",
   "name": "python",
   "nbconvert_exporter": "python",
   "pygments_lexer": "ipython3",
   "version": "3.12.4"
  }
 },
 "nbformat": 4,
 "nbformat_minor": 2
}
